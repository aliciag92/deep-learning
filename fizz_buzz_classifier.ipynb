{
 "cells": [
  {
   "cell_type": "markdown",
   "metadata": {},
   "source": [
    "# Solving FizzBuzz with Keras"
   ]
  },
  {
   "cell_type": "markdown",
   "metadata": {},
   "source": [
    "## Overview\n",
    "- This notebook provides an example Keras network to solve FizzBuzz.\n",
    "- This is a supervised classification problem, so we'll train our model on labeled data.\n"
   ]
  },
  {
   "cell_type": "markdown",
   "metadata": {},
   "source": [
    "## What is FizzBuzz?\n",
    "FizzBuzz is a common programming interview problem. Here's the setup.\n",
    "- Write a program that outputs all the integers from 1 to 100.\n",
    "- If the number is a multiple of 3, then output the string \"Fizz\"\n",
    "- If the number is a multiple of 5, then output the string \"Buzz\"\n",
    "- If the number is a multiple of 15, output the string \"FizzBuzz\"\n",
    "- For any other number, output that, number itself."
   ]
  },
  {
   "cell_type": "code",
   "execution_count": 1,
   "metadata": {},
   "outputs": [],
   "source": [
    "import warnings\n",
    "warnings.filterwarnings('ignore')\n",
    "\n",
    "# imports\n",
    "import numpy as np\n",
    "from keras.models import Sequential\n",
    "from keras.layers import Dense\n",
    "from keras.utils import np_utils\n",
    "from keras.models import Model"
   ]
  },
  {
   "cell_type": "code",
   "execution_count": 2,
   "metadata": {},
   "outputs": [],
   "source": [
    "# Specify the number of binary digits. \n",
    "NUM_DIGITS = 10"
   ]
  },
  {
   "cell_type": "code",
   "execution_count": 3,
   "metadata": {},
   "outputs": [],
   "source": [
    "## Setup the training data for 101-1024. 1024 is the highest number countable with 10 binary digits\n",
    "raw_training_data = np.array(range(101, 2**NUM_DIGITS))"
   ]
  },
  {
   "cell_type": "code",
   "execution_count": 4,
   "metadata": {},
   "outputs": [
    {
     "data": {
      "text/plain": [
       "array([101, 102, 103, 104, 105, 106, 107, 108, 109, 110, 111, 112, 113,\n",
       "       114, 115, 116, 117, 118, 119, 120])"
      ]
     },
     "execution_count": 4,
     "metadata": {},
     "output_type": "execute_result"
    }
   ],
   "source": [
    "## This is a numpy array of integers.\n",
    "raw_training_data[0:20]"
   ]
  },
  {
   "cell_type": "code",
   "execution_count": 5,
   "metadata": {},
   "outputs": [],
   "source": [
    "# We need to binary encode our inputs\n",
    "def binary_encode(i, NUM_DIGITS):\n",
    "    return np.array([i >> d & 1 for d in range(NUM_DIGITS)])"
   ]
  },
  {
   "cell_type": "code",
   "execution_count": 6,
   "metadata": {},
   "outputs": [
    {
     "name": "stdout",
     "output_type": "stream",
     "text": [
      "1 [1 0 0 0 0 0 0 0 0 0]\n",
      "2 [0 1 0 0 0 0 0 0 0 0]\n",
      "3 [1 1 0 0 0 0 0 0 0 0]\n",
      "4 [0 0 1 0 0 0 0 0 0 0]\n"
     ]
    }
   ],
   "source": [
    "print(1, binary_encode(1, NUM_DIGITS))\n",
    "print(2, binary_encode(2, NUM_DIGITS))\n",
    "print(3, binary_encode(3, NUM_DIGITS))\n",
    "print(4, binary_encode(4, NUM_DIGITS))\n"
   ]
  },
  {
   "cell_type": "code",
   "execution_count": 7,
   "metadata": {},
   "outputs": [
    {
     "data": {
      "text/plain": [
       "array([1, 1, 0, 0, 0, 0, 0, 0, 0, 0])"
      ]
     },
     "execution_count": 7,
     "metadata": {},
     "output_type": "execute_result"
    }
   ],
   "source": [
    "binary_encode(3, NUM_DIGITS)"
   ]
  },
  {
   "cell_type": "code",
   "execution_count": null,
   "metadata": {},
   "outputs": [],
   "source": []
  },
  {
   "cell_type": "code",
   "execution_count": 8,
   "metadata": {},
   "outputs": [
    {
     "name": "stdout",
     "output_type": "stream",
     "text": [
      "256 [0 0 0 0 0 0 0 0 1 0]\n",
      "512 [0 0 0 0 0 0 0 0 0 1]\n",
      "1023 [1 1 1 1 1 1 1 1 1 1]\n"
     ]
    }
   ],
   "source": [
    "print(256, binary_encode(256, NUM_DIGITS))\n",
    "print(512, binary_encode(512, NUM_DIGITS))\n",
    "print(1023, binary_encode(1023, NUM_DIGITS))"
   ]
  },
  {
   "cell_type": "code",
   "execution_count": 9,
   "metadata": {},
   "outputs": [],
   "source": [
    "encoded_training_data = [binary_encode(i, NUM_DIGITS) for i in raw_training_data]"
   ]
  },
  {
   "cell_type": "code",
   "execution_count": 10,
   "metadata": {},
   "outputs": [
    {
     "data": {
      "text/plain": [
       "array([1, 0, 1, 0, 0, 1, 1, 0, 0, 0])"
      ]
     },
     "execution_count": 10,
     "metadata": {},
     "output_type": "execute_result"
    }
   ],
   "source": [
    "x_train = np.array(encoded_training_data)\n",
    "x_train[0]"
   ]
  },
  {
   "cell_type": "code",
   "execution_count": null,
   "metadata": {},
   "outputs": [],
   "source": []
  },
  {
   "cell_type": "code",
   "execution_count": 11,
   "metadata": {},
   "outputs": [],
   "source": [
    "# List out the state space. What are the different states that the data could be in:\n",
    "# there's only 4 options/states in the FizzBuzz setup\n",
    "# A number is a multiple of 3 and 5, only 3, only 5, or it ain't\n",
    "# Now we'll need to one hot encode the training data for y\n",
    "def fizz_buzz_encode(i):\n",
    "    if i % 15 == 0:\n",
    "        return np.array([0, 0, 0, 1]) # encoding for \"fizzbuzz\"\n",
    "    elif i % 5 == 0: \n",
    "        return np.array([0, 0, 1, 0]) # encoding for \"buzz\"\n",
    "    elif i % 3  == 0: \n",
    "        return np.array([0, 1, 0, 0]) # encoding for \"fizz\"\n",
    "    else:\n",
    "        return np.array([1, 0, 0, 0]) # encoding for the number output"
   ]
  },
  {
   "cell_type": "code",
   "execution_count": 12,
   "metadata": {},
   "outputs": [
    {
     "name": "stdout",
     "output_type": "stream",
     "text": [
      "Return only the number [1 0 0 0]\n",
      "Multiple of 3 [0 1 0 0]\n",
      "Multiple of 5 [0 0 1 0]\n",
      "Return only the number [1 0 0 0]\n",
      "Multiple of both 3 and 5 [0 0 0 1]\n"
     ]
    }
   ],
   "source": [
    "print(\"Return only the number\", fizz_buzz_encode(1))\n",
    "print(\"Multiple of 3\", fizz_buzz_encode(3))\n",
    "print(\"Multiple of 5\", fizz_buzz_encode(5))\n",
    "print(\"Return only the number\", fizz_buzz_encode(7))\n",
    "print(\"Multiple of both 3 and 5\", fizz_buzz_encode(15))"
   ]
  },
  {
   "cell_type": "code",
   "execution_count": 13,
   "metadata": {
    "scrolled": true
   },
   "outputs": [
    {
     "data": {
      "text/plain": [
       "array([[1, 0, 0, 0],\n",
       "       [0, 1, 0, 0],\n",
       "       [1, 0, 0, 0],\n",
       "       ...,\n",
       "       [1, 0, 0, 0],\n",
       "       [1, 0, 0, 0],\n",
       "       [0, 1, 0, 0]])"
      ]
     },
     "execution_count": 13,
     "metadata": {},
     "output_type": "execute_result"
    }
   ],
   "source": [
    "# y_train is the encoded output. \n",
    "# This is our \"labeled data\" for supervised learning\n",
    "y_train = np.array([fizz_buzz_encode(i) for i in range(101, 2 ** NUM_DIGITS)])\n",
    "y_train"
   ]
  },
  {
   "cell_type": "code",
   "execution_count": 14,
   "metadata": {},
   "outputs": [],
   "source": [
    "# Now let's build our model, add layers, compile, and fit it!\n",
    "model = Sequential()"
   ]
  },
  {
   "cell_type": "code",
   "execution_count": 15,
   "metadata": {},
   "outputs": [],
   "source": [
    "## Add the model's layers. \n",
    "model.add(Dense(1000, input_dim=NUM_DIGITS, activation=\"relu\"))\n",
    "model.add(Dense(1000, activation=\"relu\"))\n",
    "model.add(Dense(4, activation=\"softmax\"))"
   ]
  },
  {
   "cell_type": "code",
   "execution_count": 16,
   "metadata": {},
   "outputs": [],
   "source": [
    "# categorical cross entropy is the recommended loss function for \n",
    "# metrics is a good\n",
    "model.compile(loss='categorical_crossentropy', optimizer='adagrad', metrics=[\"accuracy\"])"
   ]
  },
  {
   "cell_type": "code",
   "execution_count": 17,
   "metadata": {},
   "outputs": [
    {
     "name": "stdout",
     "output_type": "stream",
     "text": [
      "Epoch 1/20\n",
      "8/8 [==============================] - 12s 18ms/step - loss: 1.3711 - accuracy: 0.3061\n",
      "Epoch 2/20\n",
      "8/8 [==============================] - 0s 17ms/step - loss: 1.3562 - accuracy: 0.3871\n",
      "Epoch 3/20\n",
      "8/8 [==============================] - 0s 16ms/step - loss: 1.3366 - accuracy: 0.4744\n",
      "Epoch 4/20\n",
      "8/8 [==============================] - 0s 18ms/step - loss: 1.3191 - accuracy: 0.5410\n",
      "Epoch 5/20\n",
      "8/8 [==============================] - 0s 17ms/step - loss: 1.3102 - accuracy: 0.5317\n",
      "Epoch 6/20\n",
      "8/8 [==============================] - 0s 17ms/step - loss: 1.3011 - accuracy: 0.5254\n",
      "Epoch 7/20\n",
      "8/8 [==============================] - 0s 19ms/step - loss: 1.2767 - accuracy: 0.5421\n",
      "Epoch 8/20\n",
      "8/8 [==============================] - 0s 16ms/step - loss: 1.2710 - accuracy: 0.5387\n",
      "Epoch 9/20\n",
      "8/8 [==============================] - 0s 16ms/step - loss: 1.2645 - accuracy: 0.5170\n",
      "Epoch 10/20\n",
      "8/8 [==============================] - 0s 18ms/step - loss: 1.2531 - accuracy: 0.5297\n",
      "Epoch 11/20\n",
      "8/8 [==============================] - 0s 16ms/step - loss: 1.2388 - accuracy: 0.5390\n",
      "Epoch 12/20\n",
      "8/8 [==============================] - 0s 19ms/step - loss: 1.2378 - accuracy: 0.5336\n",
      "Epoch 13/20\n",
      "8/8 [==============================] - 0s 17ms/step - loss: 1.2279 - accuracy: 0.5369\n",
      "Epoch 14/20\n",
      "8/8 [==============================] - 0s 17ms/step - loss: 1.2249 - accuracy: 0.5326\n",
      "Epoch 15/20\n",
      "8/8 [==============================] - 0s 17ms/step - loss: 1.2303 - accuracy: 0.5164\n",
      "Epoch 16/20\n",
      "8/8 [==============================] - 0s 17ms/step - loss: 1.2044 - accuracy: 0.5443\n",
      "Epoch 17/20\n",
      "8/8 [==============================] - 0s 18ms/step - loss: 1.1955 - accuracy: 0.5546\n",
      "Epoch 18/20\n",
      "8/8 [==============================] - 0s 17ms/step - loss: 1.1970 - accuracy: 0.5340\n",
      "Epoch 19/20\n",
      "8/8 [==============================] - 0s 17ms/step - loss: 1.2191 - accuracy: 0.5016\n",
      "Epoch 20/20\n",
      "8/8 [==============================] - 0s 17ms/step - loss: 1.1901 - accuracy: 0.5282\n"
     ]
    },
    {
     "data": {
      "text/plain": [
       "<keras.callbacks.History at 0x7faeb7c4a340>"
      ]
     },
     "execution_count": 17,
     "metadata": {},
     "output_type": "execute_result"
    }
   ],
   "source": [
    "model.fit(x_train, y_train, epochs=20, batch_size=128)"
   ]
  },
  {
   "cell_type": "code",
   "execution_count": 18,
   "metadata": {},
   "outputs": [],
   "source": [
    "# convert fizzbuzz to binary\n",
    "def fizz_buzz(i, prediction):\n",
    "    return [str(i), \"fizz\", \"buzz\", \"fizzbuzz\"][prediction]\n"
   ]
  },
  {
   "cell_type": "code",
   "execution_count": 19,
   "metadata": {},
   "outputs": [],
   "source": [
    "# Setup x_test  fizzbuzz for prime numbers from 1 to 100\n",
    "numbers = np.arange(1, 101)\n",
    "x_test = np.transpose(binary_encode(numbers, NUM_DIGITS))\n",
    "y_test = model.predict_classes(x_test)"
   ]
  },
  {
   "cell_type": "code",
   "execution_count": 20,
   "metadata": {},
   "outputs": [
    {
     "name": "stdout",
     "output_type": "stream",
     "text": [
      "['1' '2' '3' '4' '5' '6' '7' '8' '9' '10' '11' '12' '13' '14' '15' '16'\n",
      " '17' '18' '19' '20' '21' '22' '23' '24' '25' '26' '27' '28' '29' '30'\n",
      " '31' '32' '33' '34' '35' '36' '37' '38' '39' '40' '41' '42' '43' '44'\n",
      " '45' '46' '47' '48' '49' '50' '51' '52' '53' '54' '55' '56' '57' '58'\n",
      " '59' '60' '61' '62' '63' '64' '65' '66' '67' '68' '69' '70' '71' '72'\n",
      " '73' '74' '75' '76' '77' '78' '79' '80' '81' '82' '83' '84' '85' '86'\n",
      " '87' '88' '89' '90' '91' '92' '93' '94' '95' '96' '97' '98' '99' '100']\n"
     ]
    }
   ],
   "source": [
    "# Setup predicted output\n",
    "predictions = np.vectorize(fizz_buzz)(numbers, y_test)\n",
    "print (predictions)"
   ]
  },
  {
   "cell_type": "code",
   "execution_count": 21,
   "metadata": {},
   "outputs": [
    {
     "name": "stdout",
     "output_type": "stream",
     "text": [
      "['1' '2' 'fizz' '4' 'buzz' 'fizz' '7' '8' 'fizz' 'buzz' '11' 'fizz' '13'\n",
      " '14' 'fizzbuzz' '16' '17' 'fizz' '19' 'buzz' 'fizz' '22' '23' 'fizz'\n",
      " 'buzz' '26' 'fizz' '28' '29' 'fizzbuzz' '31' '32' 'fizz' '34' 'buzz'\n",
      " 'fizz' '37' '38' 'fizz' 'buzz' '41' 'fizz' '43' '44' 'fizzbuzz' '46' '47'\n",
      " 'fizz' '49' 'buzz' 'fizz' '52' '53' 'fizz' 'buzz' '56' 'fizz' '58' '59'\n",
      " 'fizzbuzz' '61' '62' 'fizz' '64' 'buzz' 'fizz' '67' '68' 'fizz' 'buzz'\n",
      " '71' 'fizz' '73' '74' 'fizzbuzz' '76' '77' 'fizz' '79' 'buzz' 'fizz' '82'\n",
      " '83' 'fizz' 'buzz' '86' 'fizz' '88' '89' 'fizzbuzz' '91' '92' 'fizz' '94'\n",
      " 'buzz' 'fizz' '97' '98' 'fizz' 'buzz']\n"
     ]
    }
   ],
   "source": [
    "# correct answers for fizzbuzz on 1-100, these are our actual values\n",
    "answer = np.array([])\n",
    "for i in numbers:\n",
    "    if i % 15 == 0: \n",
    "        answer = np.append(answer, \"fizzbuzz\")\n",
    "    elif i % 5 == 0: \n",
    "        answer = np.append(answer, \"buzz\")\n",
    "    elif i % 3 == 0: \n",
    "        answer = np.append(answer, \"fizz\")\n",
    "    else: answer = np.append(answer, str(i))\n",
    "print (answer)"
   ]
  },
  {
   "cell_type": "code",
   "execution_count": 22,
   "metadata": {},
   "outputs": [
    {
     "name": "stdout",
     "output_type": "stream",
     "text": [
      "0.53\n"
     ]
    }
   ],
   "source": [
    "# Let's evaluate the model's predictions\n",
    "evaluate = np.array(answer == predictions)\n",
    "print (np.count_nonzero(evaluate == True) / 100)"
   ]
  },
  {
   "cell_type": "code",
   "execution_count": 23,
   "metadata": {},
   "outputs": [
    {
     "data": {
      "text/plain": [
       "array([ True,  True, False,  True, False, False,  True,  True, False,\n",
       "       False,  True, False,  True,  True, False,  True,  True, False,\n",
       "        True, False, False,  True,  True, False, False,  True, False,\n",
       "        True,  True, False,  True,  True, False,  True, False, False,\n",
       "        True,  True, False, False,  True, False,  True,  True, False,\n",
       "        True,  True, False,  True, False, False,  True,  True, False,\n",
       "       False,  True, False,  True,  True, False,  True,  True, False,\n",
       "        True, False, False,  True,  True, False, False,  True, False,\n",
       "        True,  True, False,  True,  True, False,  True, False, False,\n",
       "        True,  True, False, False,  True, False,  True,  True, False,\n",
       "        True,  True, False,  True, False, False,  True,  True, False,\n",
       "       False])"
      ]
     },
     "execution_count": 23,
     "metadata": {},
     "output_type": "execute_result"
    }
   ],
   "source": [
    "answer == predictions"
   ]
  },
  {
   "cell_type": "markdown",
   "metadata": {},
   "source": [
    "#### Original model's predictions = 53% \n",
    "\n",
    "# Exercise\n",
    "1. Reassign the NUM_DIGITS to be 5 and re-run the notebook. What do you notice? Take note of the accuracy number.\n",
    "    - error\n",
    "2. Reassign the NUM_DIGITS to be 11 and re-run the notebook. What do you notice? Take note of the accuracy number.\n",
    "    - 53% acc\n",
    "3. In the `model.fit` code, change the nb_epoch to be a lower number and then completely rerun the notebook?\n",
    "    - 53% acc\n",
    "4. In the `model.fit` code, change the nb_epoch to be a higher number and then completely rerun the notebook?\n",
    "    - 53% acc\n",
    "5. Experiment with adding extra layers to the model\n",
    "6. Experiment with changing the first number of layers argument going into `model.add(Dense(1000, activation=\"relu\"))`\n",
    "7. Experiment with different activation functions (look to the Keras documentation)\n",
    "8. How good can your model get in classifying out-of-sample numbers for FizzBuzz?"
   ]
  }
 ],
 "metadata": {
  "kernelspec": {
   "display_name": "Python 3",
   "language": "python",
   "name": "python3"
  },
  "language_info": {
   "codemirror_mode": {
    "name": "ipython",
    "version": 3
   },
   "file_extension": ".py",
   "mimetype": "text/x-python",
   "name": "python",
   "nbconvert_exporter": "python",
   "pygments_lexer": "ipython3",
   "version": "3.8.5"
  }
 },
 "nbformat": 4,
 "nbformat_minor": 2
}
